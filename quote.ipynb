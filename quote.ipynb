{
 "cells": [
  {
   "cell_type": "code",
   "execution_count": 1,
   "id": "42e189b7-cb21-45cb-af0f-6ff288703826",
   "metadata": {},
   "outputs": [],
   "source": [
    "import requests\n",
    "from bs4 import BeautifulSoup\n",
    "import pandas as pd"
   ]
  },
  {
   "cell_type": "markdown",
   "id": "b93e7d8b-d4a0-471b-8ebc-55a86774f521",
   "metadata": {},
   "source": [
    "# Prepare empty list to collect data"
   ]
  },
  {
   "cell_type": "code",
   "execution_count": 2,
   "id": "25770735-f17c-4a4f-9cce-d7878562ee4e",
   "metadata": {},
   "outputs": [],
   "source": [
    "all_quotes = []"
   ]
  },
  {
   "cell_type": "markdown",
   "id": "ca497602-4ecb-42d5-b8e5-810b8a513a85",
   "metadata": {},
   "source": [
    "# Scrape pages 1 to 9"
   ]
  },
  {
   "cell_type": "code",
   "execution_count": 38,
   "id": "33b188a6-7bc9-4c7d-be2c-797843ade306",
   "metadata": {},
   "outputs": [],
   "source": [
    "for page in range(1, 10):\n",
    "    url = f\"https://quotes.toscrape.com/page/{page}/\"\n",
    "    response = requests.get(url)\n",
    "    soup = BeautifulSoup(response.text, 'html.parser')\n",
    "\n",
    "    quotes = soup.find_all('div', class_='quote')\n",
    "\n",
    "    for quote in quotes:\n",
    "        text = quote.find('span', class_='text').get_text(strip=True)\n",
    "        author = quote.find('small', class_='author').get_text(strip=True)\n",
    "        tags = [tag.get_text(strip=True) for tag in quote.find_all('a', class_='tag')]\n",
    "\n",
    "        # Append each quote as a dictionary\n",
    "        all_quotes.append({\n",
    "            'Text': text,\n",
    "            'Author': author,\n",
    "            'Tags': ', '.join(tags)  # convert list to comma-separated string\n",
    "        })\n"
   ]
  },
  {
   "cell_type": "markdown",
   "id": "b9a1f537-f0b9-4e5b-9c79-09629c606b85",
   "metadata": {},
   "source": [
    "# Create DataFrame"
   ]
  },
  {
   "cell_type": "code",
   "execution_count": 3,
   "id": "3082266e-a038-4417-bf95-f09a38db0426",
   "metadata": {},
   "outputs": [],
   "source": [
    "df = pd.DataFrame(all_quotes)"
   ]
  },
  {
   "cell_type": "markdown",
   "id": "bd382aa0-e1a4-4d42-ae08-e15819d9b033",
   "metadata": {},
   "source": [
    "# Export to CSV"
   ]
  },
  {
   "cell_type": "code",
   "execution_count": 19,
   "id": "06c26b30-197b-4c34-9f74-8d1c6e0cb809",
   "metadata": {},
   "outputs": [],
   "source": [
    "df.to_csv('quotes.csv', index=False)"
   ]
  },
  {
   "cell_type": "markdown",
   "id": "cfc15680-4c3e-4155-9b3b-326b8b5f726c",
   "metadata": {},
   "source": [
    "# Show as table"
   ]
  },
  {
   "cell_type": "code",
   "execution_count": 20,
   "id": "0e789a44-f55b-4d2b-b6a7-9d2d07b783fd",
   "metadata": {
    "scrolled": true
   },
   "outputs": [
    {
     "name": "stdout",
     "output_type": "stream",
     "text": [
      "                                                 Text           Author  \\\n",
      "0   “The world as we have created it is a process ...  Albert Einstein   \n",
      "1   “It is our choices, Harry, that show what we t...     J.K. Rowling   \n",
      "2   “There are only two ways to live your life. On...  Albert Einstein   \n",
      "3   “The person, be it gentleman or lady, who has ...      Jane Austen   \n",
      "4   “Imperfection is beauty, madness is genius and...   Marilyn Monroe   \n",
      "..                                                ...              ...   \n",
      "85  “Some day you will be old enough to start read...       C.S. Lewis   \n",
      "86  “We are not necessarily doubting that God will...       C.S. Lewis   \n",
      "87  “The fear of death follows from the fear of li...       Mark Twain   \n",
      "88  “A lie can travel half way around the world wh...       Mark Twain   \n",
      "89  “I believe in Christianity as I believe that t...       C.S. Lewis   \n",
      "\n",
      "                                            Tags  \n",
      "0         change, deep-thoughts, thinking, world  \n",
      "1                             abilities, choices  \n",
      "2   inspirational, life, live, miracle, miracles  \n",
      "3               aliteracy, books, classic, humor  \n",
      "4                     be-yourself, inspirational  \n",
      "..                                           ...  \n",
      "85                   age, fairytales, growing-up  \n",
      "86                                           god  \n",
      "87                                   death, life  \n",
      "88               misattributed-mark-twain, truth  \n",
      "89            christianity, faith, religion, sun  \n",
      "\n",
      "[90 rows x 3 columns]\n"
     ]
    }
   ],
   "source": [
    "print(df)"
   ]
  },
  {
   "cell_type": "code",
   "execution_count": 21,
   "id": "ec41c892-0973-4b67-9cfc-27422468ddfe",
   "metadata": {},
   "outputs": [],
   "source": [
    "df = pd.read_csv('quotes.csv')"
   ]
  },
  {
   "cell_type": "code",
   "execution_count": 23,
   "id": "4f343aa8-d3a8-46b0-b947-c57874efeabb",
   "metadata": {},
   "outputs": [],
   "source": [
    "authors = df['Author'].unique()"
   ]
  },
  {
   "cell_type": "code",
   "execution_count": 27,
   "id": "35d00643-0ed5-418b-8152-f30c2977e9d1",
   "metadata": {
    "scrolled": true
   },
   "outputs": [
    {
     "name": "stdout",
     "output_type": "stream",
     "text": [
      "Authors:\n",
      "Albert Einstein\n",
      "Alexandre Dumas fils\n",
      "Alfred Tennyson\n",
      "Allen Saunders\n",
      "André Gide\n",
      "Ayn Rand\n",
      "Bob Marley\n",
      "C.S. Lewis\n",
      "Charles Bukowski\n",
      "Charles M. Schulz\n",
      "Douglas Adams\n",
      "Dr. Seuss\n",
      "Eleanor Roosevelt\n",
      "Elie Wiesel\n",
      "Ernest Hemingway\n",
      "Friedrich Nietzsche\n",
      "Garrison Keillor\n",
      "George Bernard Shaw\n",
      "George Carlin\n",
      "George Eliot\n",
      "George R.R. Martin\n",
      "Haruki Murakami\n",
      "Helen Keller\n",
      "J.D. Salinger\n",
      "J.K. Rowling\n",
      "J.R.R. Tolkien\n",
      "James Baldwin\n",
      "Jane Austen\n",
      "Jim Henson\n",
      "John Lennon\n",
      "Jorge Luis Borges\n",
      "Marilyn Monroe\n",
      "Mark Twain\n",
      "Martin Luther King Jr.\n",
      "Mother Teresa\n",
      "Pablo Neruda\n",
      "Ralph Waldo Emerson\n",
      "Stephenie Meyer\n",
      "Steve Martin\n",
      "Suzanne Collins\n",
      "Terry Pratchett\n",
      "Thomas A. Edison\n",
      "W.C. Fields\n",
      "William Nicholson\n"
     ]
    }
   ],
   "source": [
    "print(\"Authors:\\n\" + \"\\n\".join(sorted(authors)))"
   ]
  },
  {
   "cell_type": "code",
   "execution_count": 34,
   "id": "b3f2ae88-34cd-4859-94c8-2aeec27e887d",
   "metadata": {},
   "outputs": [
    {
     "name": "stdout",
     "output_type": "stream",
     "text": [
      "Total Authors Found : 44\n"
     ]
    }
   ],
   "source": [
    "print(\"Total Authors Found :\" , len(authors) ) "
   ]
  },
  {
   "cell_type": "code",
   "execution_count": 36,
   "id": "fdf26960-afc1-48fe-8ba7-16e7b1f2335f",
   "metadata": {},
   "outputs": [],
   "source": [
    "quote = df['Text']"
   ]
  },
  {
   "cell_type": "code",
   "execution_count": 37,
   "id": "358e7e6f-9831-4009-8213-968f42ec0351",
   "metadata": {},
   "outputs": [
    {
     "name": "stdout",
     "output_type": "stream",
     "text": [
      "Total Quotes are :  90\n"
     ]
    }
   ],
   "source": [
    "print(\"Total Quotes are : \" , len(quote))"
   ]
  },
  {
   "cell_type": "code",
   "execution_count": 46,
   "id": "76c3c717-1c1a-4989-a39c-36434889a55c",
   "metadata": {},
   "outputs": [],
   "source": [
    "author_counts = df['Author'].value_counts()"
   ]
  },
  {
   "cell_type": "code",
   "execution_count": 47,
   "id": "d1b43467-b414-4f81-bb57-72e0ac7d4745",
   "metadata": {},
   "outputs": [
    {
     "name": "stdout",
     "output_type": "stream",
     "text": [
      "Total Unique Authors: 44\n",
      "\n"
     ]
    }
   ],
   "source": [
    "print(f\"Total Unique Authors: {len(author_counts)}\\n\")"
   ]
  },
  {
   "cell_type": "code",
   "execution_count": 48,
   "id": "89b6b8a5-632d-450a-9ae1-8218c37c8f7a",
   "metadata": {
    "scrolled": true
   },
   "outputs": [
    {
     "name": "stdout",
     "output_type": "stream",
     "text": [
      "Quotes per Author:\n",
      "- Albert Einstein: 10 quote(s)\n",
      "- J.K. Rowling: 8 quote(s)\n",
      "- Marilyn Monroe: 7 quote(s)\n",
      "- Jane Austen: 5 quote(s)\n",
      "- Dr. Seuss: 5 quote(s)\n",
      "- Mark Twain: 5 quote(s)\n",
      "- C.S. Lewis: 5 quote(s)\n",
      "- Bob Marley: 3 quote(s)\n",
      "- Ralph Waldo Emerson: 2 quote(s)\n",
      "- Mother Teresa: 2 quote(s)\n",
      "- Eleanor Roosevelt: 2 quote(s)\n",
      "- Suzanne Collins: 2 quote(s)\n",
      "- Ernest Hemingway: 2 quote(s)\n",
      "- Charles Bukowski: 2 quote(s)\n",
      "- Elie Wiesel: 1 quote(s)\n",
      "- Steve Martin: 1 quote(s)\n",
      "- André Gide: 1 quote(s)\n",
      "- Douglas Adams: 1 quote(s)\n",
      "- Thomas A. Edison: 1 quote(s)\n",
      "- Pablo Neruda: 1 quote(s)\n",
      "- Jim Henson: 1 quote(s)\n",
      "- Charles M. Schulz: 1 quote(s)\n",
      "- Jorge Luis Borges: 1 quote(s)\n",
      "- William Nicholson: 1 quote(s)\n",
      "- George Eliot: 1 quote(s)\n",
      "- Allen Saunders: 1 quote(s)\n",
      "- Garrison Keillor: 1 quote(s)\n",
      "- Friedrich Nietzsche: 1 quote(s)\n",
      "- James Baldwin: 1 quote(s)\n",
      "- Martin Luther King Jr.: 1 quote(s)\n",
      "- George R.R. Martin: 1 quote(s)\n",
      "- Haruki Murakami: 1 quote(s)\n",
      "- Stephenie Meyer: 1 quote(s)\n",
      "- Alexandre Dumas fils: 1 quote(s)\n",
      "- George Bernard Shaw: 1 quote(s)\n",
      "- Helen Keller: 1 quote(s)\n",
      "- J.R.R. Tolkien: 1 quote(s)\n",
      "- Alfred Tennyson: 1 quote(s)\n",
      "- Terry Pratchett: 1 quote(s)\n",
      "- J.D. Salinger: 1 quote(s)\n",
      "- George Carlin: 1 quote(s)\n",
      "- John Lennon: 1 quote(s)\n",
      "- W.C. Fields: 1 quote(s)\n",
      "- Ayn Rand: 1 quote(s)\n"
     ]
    }
   ],
   "source": [
    "print(\"Quotes per Author:\")\n",
    "for author, count in author_counts.items():\n",
    "    print(f\"- {author}: {count} quote(s)\")"
   ]
  },
  {
   "cell_type": "code",
   "execution_count": null,
   "id": "6b4688a9-b6b7-4645-b184-d3e3fe59c51a",
   "metadata": {},
   "outputs": [],
   "source": []
  }
 ],
 "metadata": {
  "kernelspec": {
   "display_name": "Python 3 (ipykernel)",
   "language": "python",
   "name": "python3"
  },
  "language_info": {
   "codemirror_mode": {
    "name": "ipython",
    "version": 3
   },
   "file_extension": ".py",
   "mimetype": "text/x-python",
   "name": "python",
   "nbconvert_exporter": "python",
   "pygments_lexer": "ipython3",
   "version": "3.13.2"
  }
 },
 "nbformat": 4,
 "nbformat_minor": 5
}
