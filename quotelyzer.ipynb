{
 "cells": [
  {
   "cell_type": "code",
   "execution_count": null,
   "id": "79b0e966",
   "metadata": {},
   "outputs": [],
   "source": [
    "import requests\n",
    "from bs4 import BeautifulSoup\n",
    "import pandas as pd"
   ]
  },
  {
   "cell_type": "code",
   "execution_count": null,
   "id": "3fcf527d",
   "metadata": {},
   "outputs": [],
   "source": [
    "# Prepare an empty list to store all quote data\n",
    "all_quotes = []"
   ]
  },
  {
   "cell_type": "code",
   "execution_count": null,
   "id": "505a0651",
   "metadata": {},
   "outputs": [],
   "source": [
    "# Loop through pages 1 to 9 and extract quotes\n",
    "for page in range(1, 10):\n",
    "    url = f\"https://quotes.toscrape.com/page/{page}/\"\n",
    "    response = requests.get(url)\n",
    "    soup = BeautifulSoup(response.text, 'html.parser')\n",
    "\n",
    "    quotes = soup.find_all('div', class_='quote')\n",
    "\n",
    "    for quote in quotes:\n",
    "        text = quote.find('span', class_='text').get_text(strip=True)\n",
    "        author = quote.find('small', class_='author').get_text(strip=True)\n",
    "        tags = [tag.get_text(strip=True) for tag in quote.find_all('a', class_='tag')]\n",
    "\n",
    "        all_quotes.append({\n",
    "            'Text': text,\n",
    "            'Author': author,\n",
    "            'Tags': ', '.join(tags)\n",
    "        })"
   ]
  },
  {
   "cell_type": "code",
   "execution_count": null,
   "id": "de6322d6",
   "metadata": {},
   "outputs": [],
   "source": [
    "df = pd.DataFrame(all_quotes)\n",
    "df.head()"
   ]
  },
  {
   "cell_type": "code",
   "execution_count": null,
   "id": "8b367758",
   "metadata": {},
   "outputs": [],
   "source": [
    "df.to_csv('quotes.csv', index=False)"
   ]
  },
  {
   "cell_type": "code",
   "execution_count": null,
   "id": "1a94d634",
   "metadata": {},
   "outputs": [],
   "source": [
    "df = pd.read_csv('quotes.csv')"
   ]
  },
  {
   "cell_type": "code",
   "execution_count": null,
   "id": "e60601d2",
   "metadata": {},
   "outputs": [],
   "source": [
    "authors = df['Author'].unique()\n",
    "print(\"Authors:\\n\" + \"\\n\".join(sorted(authors)))"
   ]
  },
  {
   "cell_type": "code",
   "execution_count": null,
   "id": "9f6c82b8",
   "metadata": {},
   "outputs": [],
   "source": [
    "print(\"Total Authors Found:\", len(authors))"
   ]
  },
  {
   "cell_type": "code",
   "execution_count": null,
   "id": "f79ec45f",
   "metadata": {},
   "outputs": [],
   "source": [
    "print(\"Total Quotes are:\", len(df))"
   ]
  },
  {
   "cell_type": "code",
   "execution_count": null,
   "id": "22bdf2b4",
   "metadata": {},
   "outputs": [],
   "source": [
    "author_counts = df['Author'].value_counts()\n",
    "print(f\"Total Unique Authors: {len(author_counts)}\\n\")\n",
    "\n",
    "print(\"Quotes per Author:\")\n",
    "for author, count in author_counts.items():\n",
    "    print(f\"- {author}: {count} quote(s)\")"
   ]
  }
 ],
 "metadata": {},
 "nbformat": 4,
 "nbformat_minor": 5
}
